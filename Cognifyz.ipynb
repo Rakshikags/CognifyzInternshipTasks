{
  "nbformat": 4,
  "nbformat_minor": 0,
  "metadata": {
    "colab": {
      "provenance": [],
      "authorship_tag": "ABX9TyPd6baCpKvvRNHbEz9tjsOe",
      "include_colab_link": true
    },
    "kernelspec": {
      "name": "python3",
      "display_name": "Python 3"
    },
    "language_info": {
      "name": "python"
    }
  },
  "cells": [
    {
      "cell_type": "markdown",
      "metadata": {
        "id": "view-in-github",
        "colab_type": "text"
      },
      "source": [
        "<a href=\"https://colab.research.google.com/github/Rakshikags/CognifyzInternshipTasks/blob/main/Cognifyz.ipynb\" target=\"_parent\"><img src=\"https://colab.research.google.com/assets/colab-badge.svg\" alt=\"Open In Colab\"/></a>"
      ]
    },
    {
      "cell_type": "code",
      "source": [
        "pip install scikit-learn"
      ],
      "metadata": {
        "colab": {
          "base_uri": "https://localhost:8080/"
        },
        "id": "BIsg3Don5WCs",
        "outputId": "46aa1eb5-eca8-4607-e8c4-3a147503f7aa"
      },
      "execution_count": 1,
      "outputs": [
        {
          "output_type": "stream",
          "name": "stdout",
          "text": [
            "Requirement already satisfied: scikit-learn in /usr/local/lib/python3.11/dist-packages (1.6.1)\n",
            "Requirement already satisfied: numpy>=1.19.5 in /usr/local/lib/python3.11/dist-packages (from scikit-learn) (2.0.2)\n",
            "Requirement already satisfied: scipy>=1.6.0 in /usr/local/lib/python3.11/dist-packages (from scikit-learn) (1.14.1)\n",
            "Requirement already satisfied: joblib>=1.2.0 in /usr/local/lib/python3.11/dist-packages (from scikit-learn) (1.4.2)\n",
            "Requirement already satisfied: threadpoolctl>=3.1.0 in /usr/local/lib/python3.11/dist-packages (from scikit-learn) (3.6.0)\n"
          ]
        }
      ]
    },
    {
      "cell_type": "code",
      "source": [
        "from sklearn.preprocessing import OneHotEncoder, StandardScaler"
      ],
      "metadata": {
        "id": "HLkCSYO75clZ"
      },
      "execution_count": 2,
      "outputs": []
    },
    {
      "cell_type": "code",
      "execution_count": 3,
      "metadata": {
        "id": "m3_sn-FvfEcN"
      },
      "outputs": [],
      "source": [
        "import pandas as pd\n",
        "import numpy as np\n",
        "import matplotlib.pyplot as plt\n",
        "import seaborn as sns\n",
        "from sklearn.model_selection import train_test_split\n",
        "from sklearn.preprocessing import LabelEncoder, StandardScaler\n",
        "from sklearn.linear_model import LinearRegression\n",
        "from sklearn.ensemble import RandomForestClassifier\n",
        "from sklearn.metrics import mean_squared_error, r2_score, accuracy_score, classification_report\n",
        "from sklearn.neighbors import NearestNeighbors\n",
        "import folium\n",
        "\n"
      ]
    },
    {
      "cell_type": "code",
      "source": [
        "# Load dataset\n",
        "file_path = \"/content/Dataset .csv\"\n",
        "df = pd.read_csv(file_path)"
      ],
      "metadata": {
        "id": "91FdKho0l0Mv"
      },
      "execution_count": 5,
      "outputs": []
    },
    {
      "cell_type": "code",
      "source": [
        "# Define categorical and numerical columns\n",
        "categorical_cols = ['Has Table booking', 'Has Online delivery', 'Is delivering now', 'Rating text']\n",
        "numerical_cols = ['Average Cost for two', 'Price range', 'Votes']\n",
        "\n",
        "# One-hot encode categorical columns (excluding 'Cuisines' for now)\n",
        "ohe = OneHotEncoder(sparse_output=False, handle_unknown='ignore')\n",
        "categorical_encoded = ohe.fit_transform(df[categorical_cols].astype(str))\n",
        "categorical_encoded_df = pd.DataFrame(categorical_encoded, columns=ohe.get_feature_names_out())\n",
        "df = df.drop(columns=categorical_cols).join(categorical_encoded_df)\n",
        "\n",
        "# Label encode 'Cuisines' separately (for Task 3 and interpretability in Task 2)\n",
        "cuisine_encoder = LabelEncoder()\n",
        "df['Cuisines_encoded'] = cuisine_encoder.fit_transform(df['Cuisines'].astype(str))\n",
        "\n",
        "# Fill missing values and scale numerical columns\n",
        "df.fillna(df.median(numeric_only=True), inplace=True)\n",
        "scaler = StandardScaler()\n",
        "df[numerical_cols] = scaler.fit_transform(df[numerical_cols])\n",
        "\n",
        "# Task 1: Predict Restaurant Ratings\n",
        "features = numerical_cols + list(ohe.get_feature_names_out())\n",
        "X = df[features]\n",
        "y = df['Aggregate rating']\n",
        "X_train, X_test, y_train, y_test = train_test_split(X, y, test_size=0.2, random_state=42)\n",
        "model = LinearRegression()\n",
        "model.fit(X_train, y_train)\n",
        "y_pred = model.predict(X_test)\n",
        "print(\"Task 1 - Restaurant Rating Prediction\")\n",
        "print(f\"MSE: {mean_squared_error(y_test, y_pred)}\")\n",
        "print(f\"R2 Score: {r2_score(y_test, y_pred)}\")\n",
        "\n",
        "# Task 2: Restaurant Recommendation using Nearest Neighbors\n",
        "recommender = NearestNeighbors(n_neighbors=5, metric='euclidean')\n",
        "recommender.fit(X)\n",
        "def recommend_restaurants(index):\n",
        "    distances, indices = recommender.kneighbors(X.iloc[[index]])  # Pass DataFrame slice with feature names\n",
        "    recommendations = df.iloc[indices[0]][['Restaurant Name', 'Cuisines', 'City']]  # Show original 'Cuisines'\n",
        "    return recommendations\n",
        "\n",
        "print(\"Task 2 - Sample Recommendations:\")\n",
        "print(recommend_restaurants(0))\n",
        "\n",
        "# Task 3: Cuisine Classification (Simplified)\n",
        "# Group cuisines into broader categories (example: top 10 cuisines + 'Other')\n",
        "top_cuisines = df['Cuisines'].value_counts().head(10).index\n",
        "df['Cuisines_grouped'] = df['Cuisines'].apply(lambda x: x if x in top_cuisines else 'Other')\n",
        "cuisine_group_encoder = LabelEncoder()\n",
        "df['Cuisines_grouped_encoded'] = cuisine_group_encoder.fit_transform(df['Cuisines_grouped'])\n",
        "\n",
        "X_class = df[features]\n",
        "y_class = df['Cuisines_grouped_encoded']\n",
        "X_train, X_test, y_train, y_test = train_test_split(X_class, y_class, test_size=0.2, random_state=42)\n",
        "classifier = RandomForestClassifier(random_state=42)\n",
        "classifier.fit(X_train, y_train)\n",
        "y_pred = classifier.predict(X_test)\n",
        "print(\"Task 3 - Cuisine Classification (Grouped)\")\n",
        "print(f\"Accuracy: {accuracy_score(y_test, y_pred)}\")\n",
        "print(classification_report(y_test, y_pred, target_names=cuisine_group_encoder.classes_))\n",
        "\n",
        "# Task 4: Geographical Analysis (unchanged)\n",
        "map = folium.Map(location=[df['Latitude'].mean(), df['Longitude'].mean()], zoom_start=10)\n",
        "for _, row in df.iterrows():\n",
        "    folium.Marker([row['Latitude'], row['Longitude']], popup=row['Restaurant Name']).add_to(map)\n",
        "map.save(\"restaurants_map.html\")\n",
        "print(\"Task 4 - Geographical Analysis: Map saved as restaurants_map.html\")"
      ],
      "metadata": {
        "colab": {
          "base_uri": "https://localhost:8080/"
        },
        "id": "5pU3GTLcEywO",
        "outputId": "08937c61-0be2-4b08-ebfa-21f3ad0e04c6"
      },
      "execution_count": 6,
      "outputs": [
        {
          "output_type": "stream",
          "name": "stdout",
          "text": [
            "Task 1 - Restaurant Rating Prediction\n",
            "MSE: 0.029558989494944996\n",
            "R2 Score: 0.9852060454141679\n",
            "Task 2 - Sample Recommendations:\n",
            "       Restaurant Name                                Cuisines           City\n",
            "0     Le Petit Souffle              French, Japanese, Desserts    Makati City\n",
            "17          Balay Dako                                Filipino  Tagaytay City\n",
            "9             Locavore                                Filipino     Pasig City\n",
            "1837        feel ALIVE  North Indian, American, Asian, Biryani        Gurgaon\n",
            "1     Izakaya Kikufuji                                Japanese    Makati City\n",
            "Task 3 - Cuisine Classification (Grouped)\n",
            "Accuracy: 0.6058890147225368\n",
            "                                precision    recall  f1-score   support\n",
            "\n",
            "                        Bakery       0.09      0.05      0.07        19\n",
            "              Bakery, Desserts       0.00      0.00      0.00        18\n",
            "                          Cafe       0.27      0.20      0.23        30\n",
            "                       Chinese       0.00      0.00      0.00        19\n",
            "                     Fast Food       0.00      0.00      0.00        22\n",
            "                       Mughlai       0.00      0.00      0.00        12\n",
            "                  North Indian       0.16      0.14      0.15        72\n",
            "         North Indian, Chinese       0.06      0.05      0.06        39\n",
            "         North Indian, Mughlai       0.05      0.04      0.04        27\n",
            "North Indian, Mughlai, Chinese       0.00      0.00      0.00         7\n",
            "                         Other       0.75      0.83      0.79       618\n",
            "\n",
            "                      accuracy                           0.61       883\n",
            "                     macro avg       0.13      0.12      0.12       883\n",
            "                  weighted avg       0.55      0.61      0.58       883\n",
            "\n",
            "Task 4 - Geographical Analysis: Map saved as restaurants_map.html\n"
          ]
        }
      ]
    }
  ]
}